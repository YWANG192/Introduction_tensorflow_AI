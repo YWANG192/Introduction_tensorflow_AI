{
 "cells": [
  {
   "cell_type": "markdown",
   "metadata": {
    "colab_type": "text",
    "id": "UncprnB0ymAE"
   },
   "source": [
    "Below is code with a link to a happy or sad dataset which contains 80 images, 40 happy and 40 sad. \n",
    "Create a convolutional neural network that trains to 100% accuracy on these images,  which cancels training upon hitting training accuracy of >.999\n",
    "\n",
    "Hint -- it will work best with 3 convolutional layers."
   ]
  },
  {
   "cell_type": "code",
   "execution_count": 4,
   "metadata": {},
   "outputs": [],
   "source": [
    "import tensorflow as tf\n",
    "import os\n",
    "import zipfile\n",
    "from os import path, getcwd, chdir\n",
    "\n",
    "# DO NOT CHANGE THE LINE BELOW. If you are developing in a local\n",
    "# environment, then grab happy-or-sad.zip from the Coursera Jupyter Notebook\n",
    "# and place it inside a local folder and edit the path to that location\n",
    "path = f\"{getcwd()}/../tmp2/happy-or-sad.zip\"\n",
    "\n",
    "zip_ref = zipfile.ZipFile(path, 'r')\n",
    "zip_ref.extractall(\"/tmp/h-or-s\")\n",
    "zip_ref.close()"
   ]
  },
  {
   "cell_type": "code",
   "execution_count": 5,
   "metadata": {},
   "outputs": [],
   "source": [
    "# GRADED FUNCTION: train_happy_sad_model\n",
    "def train_happy_sad_model():\n",
    "    # Please write your code only where you are indicated.\n",
    "    # please do not remove # model fitting inline comments.\n",
    "\n",
    "    class myCallback(tf.keras.callbacks.Callback):\n",
    "        def on_epoch_end(self, epoch, logs={}):\n",
    "            if(logs.get('acc')>0.999):\n",
    "                print(\"/n Reached 99.9% accuracy so cancelling training!\")\n",
    "                self.model.stop_training = True\n",
    "\n",
    "    callbacks = myCallback()\n",
    "    \n",
    "    # This Code Block should Define and Compile the Model. Please assume the images are 150 X 150 in your implementation.\n",
    "    model = tf.keras.models.Sequential([\n",
    "        # Your Code Here\n",
    "        tf.keras.layers.Conv2D(8, (3,3), activation='relu', input_shape=(150, 150, 3)),\n",
    "        tf.keras.layers.MaxPooling2D(2, 2),\n",
    "        # The second convolution\n",
    "        tf.keras.layers.Conv2D(16, (3,3), activation='relu'),\n",
    "        tf.keras.layers.MaxPooling2D(2,2),\n",
    "        # The third convolution\n",
    "        tf.keras.layers.Conv2D(32, (3,3), activation='relu'),\n",
    "        tf.keras.layers.MaxPooling2D(2,2),\n",
    "\n",
    "        tf.keras.layers.Flatten(),\n",
    "        # 512 neuron hidden layer\n",
    "        tf.keras.layers.Dense(52, activation='relu'),\n",
    "        # Only 1 output neuron. It will contain a value from 0-1 where 0 for 1 class ('horses') and 1 for the other ('humans')\n",
    "        tf.keras.layers.Dense(1, activation='sigmoid')\n",
    "    ])\n",
    "\n",
    "    from tensorflow.keras.optimizers import RMSprop\n",
    "\n",
    "    model.compile(loss='binary_crossentropy',\n",
    "              optimizer=RMSprop(lr=0.001),\n",
    "              metrics=['acc'])\n",
    "        \n",
    "\n",
    "    # This code block should create an instance of an ImageDataGenerator called train_datagen \n",
    "    # And a train_generator by calling train_datagen.flow_from_directory\n",
    "\n",
    "    from tensorflow.keras.preprocessing.image import ImageDataGenerator\n",
    "\n",
    "    train_datagen = ImageDataGenerator(rescale=1/255) # Your Code Here\n",
    "\n",
    "    # Please use a target_size of 150 X 150.\n",
    "    train_generator = train_datagen.flow_from_directory(\n",
    "        '/tmp/h-or-s',  \n",
    "        target_size=(150, 150),  \n",
    "        batch_size=20,\n",
    "        class_mode='binary')\n",
    "    # Expected output: 'Found 80 images belonging to 2 classes'\n",
    "\n",
    "    # This code block should call model.fit_generator and train for\n",
    "    # a number of epochs.\n",
    "    # model fitting\n",
    "    history = model.fit_generator(train_generator,\n",
    "          steps_per_epoch=4,  \n",
    "          epochs=30,\n",
    "          verbose=1,\n",
    "          callbacks=[callbacks])\n",
    "    # model fitting\n",
    "    return history.history['acc'][-1]"
   ]
  },
  {
   "cell_type": "code",
   "execution_count": 6,
   "metadata": {},
   "outputs": [
    {
     "name": "stdout",
     "output_type": "stream",
     "text": [
      "Found 80 images belonging to 2 classes.\n",
      "Epoch 1/30\n",
      "4/4 [==============================] - 1s 274ms/step - loss: 1.7733 - acc: 0.4250\n",
      "Epoch 2/30\n",
      "4/4 [==============================] - 0s 75ms/step - loss: 0.6794 - acc: 0.4750\n",
      "Epoch 3/30\n",
      "4/4 [==============================] - 0s 73ms/step - loss: 0.6258 - acc: 0.8625\n",
      "Epoch 4/30\n",
      "4/4 [==============================] - 0s 74ms/step - loss: 0.5754 - acc: 0.7750\n",
      "Epoch 5/30\n",
      "4/4 [==============================] - 0s 58ms/step - loss: 0.4571 - acc: 0.9500\n",
      "Epoch 6/30\n",
      "4/4 [==============================] - 0s 74ms/step - loss: 0.3371 - acc: 0.9000\n",
      "Epoch 7/30\n",
      "4/4 [==============================] - 0s 74ms/step - loss: 0.2948 - acc: 0.8875\n",
      "Epoch 8/30\n",
      "4/4 [==============================] - 0s 57ms/step - loss: 0.2777 - acc: 0.9000\n",
      "Epoch 9/30\n",
      "4/4 [==============================] - 0s 78ms/step - loss: 0.1777 - acc: 0.9375\n",
      "Epoch 10/30\n",
      "4/4 [==============================] - 0s 89ms/step - loss: 0.1837 - acc: 0.9125\n",
      "Epoch 11/30\n",
      "4/4 [==============================] - 0s 57ms/step - loss: 0.1740 - acc: 0.9500\n",
      "Epoch 12/30\n",
      "4/4 [==============================] - 0s 74ms/step - loss: 0.1359 - acc: 0.9500\n",
      "Epoch 13/30\n",
      "4/4 [==============================] - 0s 74ms/step - loss: 0.1760 - acc: 0.9375\n",
      "Epoch 14/30\n",
      "4/4 [==============================] - 0s 74ms/step - loss: 0.1088 - acc: 0.9750\n",
      "Epoch 15/30\n",
      "4/4 [==============================] - 0s 75ms/step - loss: 0.0964 - acc: 0.9750\n",
      "Epoch 16/30\n",
      "4/4 [==============================] - 0s 74ms/step - loss: 0.1734 - acc: 0.9625\n",
      "Epoch 17/30\n",
      "4/4 [==============================] - 0s 74ms/step - loss: 0.1219 - acc: 0.9500\n",
      "Epoch 18/30\n",
      "4/4 [==============================] - 0s 74ms/step - loss: 0.0791 - acc: 0.9500\n",
      "Epoch 19/30\n",
      "4/4 [==============================] - 0s 72ms/step - loss: 0.1133 - acc: 0.9375\n",
      "Epoch 20/30\n",
      "4/4 [==============================] - 0s 73ms/step - loss: 0.0677 - acc: 0.9750\n",
      "Epoch 21/30\n",
      "4/4 [==============================] - 0s 57ms/step - loss: 0.0455 - acc: 0.9875\n",
      "Epoch 22/30\n",
      "4/4 [==============================] - 0s 72ms/step - loss: 0.0795 - acc: 0.9500\n",
      "Epoch 23/30\n",
      "4/4 [==============================] - 0s 74ms/step - loss: 0.0760 - acc: 0.9875\n",
      "Epoch 24/30\n",
      "4/4 [==============================] - 0s 75ms/step - loss: 0.1430 - acc: 0.9250\n",
      "Epoch 25/30\n",
      "4/4 [==============================] - 0s 75ms/step - loss: 0.0576 - acc: 0.9625\n",
      "Epoch 26/30\n",
      "3/4 [=====================>........] - ETA: 0s - loss: 0.0209 - acc: 1.0000/n Reached 99.9% accuracy so cancelling training!\n",
      "4/4 [==============================] - 0s 74ms/step - loss: 0.0260 - acc: 1.0000\n"
     ]
    },
    {
     "data": {
      "text/plain": [
       "1.0"
      ]
     },
     "execution_count": 6,
     "metadata": {},
     "output_type": "execute_result"
    }
   ],
   "source": [
    "# The Expected output: \"Reached 99.9% accuracy so cancelling training!\"\"\n",
    "train_happy_sad_model()"
   ]
  },
  {
   "cell_type": "code",
   "execution_count": 4,
   "metadata": {},
   "outputs": [],
   "source": [
    "# Now click the 'Submit Assignment' button above.\n",
    "# Once that is complete, please run the following two cells to save your work and close the notebook"
   ]
  },
  {
   "cell_type": "code",
   "execution_count": 7,
   "metadata": {},
   "outputs": [
    {
     "data": {
      "application/javascript": [
       "<!-- Save the notebook -->\n",
       "IPython.notebook.save_checkpoint();\n"
      ],
      "text/plain": [
       "<IPython.core.display.Javascript object>"
      ]
     },
     "metadata": {},
     "output_type": "display_data"
    }
   ],
   "source": [
    "%%javascript\n",
    "<!-- Save the notebook -->\n",
    "IPython.notebook.save_checkpoint();"
   ]
  },
  {
   "cell_type": "code",
   "execution_count": null,
   "metadata": {},
   "outputs": [
    {
     "data": {
      "application/javascript": [
       "IPython.notebook.session.delete();\n",
       "window.onbeforeunload = null\n",
       "setTimeout(function() { window.close(); }, 1000);\n"
      ],
      "text/plain": [
       "<IPython.core.display.Javascript object>"
      ]
     },
     "metadata": {},
     "output_type": "display_data"
    }
   ],
   "source": [
    "%%javascript\n",
    "IPython.notebook.session.delete();\n",
    "window.onbeforeunload = null\n",
    "setTimeout(function() { window.close(); }, 1000);"
   ]
  },
  {
   "cell_type": "code",
   "execution_count": null,
   "metadata": {},
   "outputs": [],
   "source": []
  }
 ],
 "metadata": {
  "coursera": {
   "course_slug": "introduction-tensorflow",
   "graded_item_id": "1kAlw",
   "launcher_item_id": "PNLYD"
  },
  "kernelspec": {
   "display_name": "Python 3",
   "language": "python",
   "name": "python3"
  },
  "language_info": {
   "codemirror_mode": {
    "name": "ipython",
    "version": 3
   },
   "file_extension": ".py",
   "mimetype": "text/x-python",
   "name": "python",
   "nbconvert_exporter": "python",
   "pygments_lexer": "ipython3",
   "version": "3.6.8"
  }
 },
 "nbformat": 4,
 "nbformat_minor": 1
}
